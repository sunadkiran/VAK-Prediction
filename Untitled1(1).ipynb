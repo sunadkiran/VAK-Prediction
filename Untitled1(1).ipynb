{
 "cells": [
  {
   "cell_type": "code",
   "execution_count": null,
   "metadata": {},
   "outputs": [],
   "source": [
    "from sklearn.naive_bayes import GaussianNB\n",
    "import pandas as pd\n",
    "from sklearn import *\n",
    "from sklearn.metrics import accuracy_score\n",
    "import numpy as np\n",
    "\n",
    "data=pd.read_csv('F:/fsmlk/vak.csv')\n",
    "df = pd.DataFrame(data)\n",
    "\n",
    "\n",
    "y=df.vak\n",
    "x=df.drop('vak',axis=1)\n",
    "\n",
    "from sklearn.model_selection import train_test_split\n",
    "X_train, X_test, y_train, y_test = train_test_split(x,y, test_size=0.2, random_state=70)\n",
    "\n",
    "from sklearn.naive_bayes import GaussianNB\n",
    "gnb = GaussianNB()\n",
    "gnb.fit(X_train,y_train)\n",
    "\n",
    "q1=int(input(\"enter point \"))\n",
    "q2=int(input(\"enter point \"))\n",
    "q3=int(input(\"enter point \"))\n",
    "q4=int(input(\"enter point \"))\n",
    "q5=int(input(\"enter point \"))\n",
    "q6=int(input(\"enter point \"))\n",
    "q7=int(input(\"enter point \"))\n",
    "q8=int(input(\"enter point \"))\n",
    "q9=int(input(\"enter point \"))\n",
    "pred=gnb.predict([[q1,q2,q3,q4,q5,q6,q7,q8,q9]])\n",
    "prob=gnb.predict_proba([[q1,q2,q3,q4,q5,q6,q7,q8,q9]])\n",
    "#print(\"Predicted VAK of given samples is : \",pred)\n",
    "if (pred == 0):\n",
    "    print(\"The person belongs to visual\")\n",
    "elif(pred==1):\n",
    "     print(\"The person belongs to auditory\")\n",
    "else:\n",
    "     print(\"The person belongs to kenesthetic\")\n",
    "print(\"The probability of predicting for v  : \",prob[:,0])\n",
    "print(\"The probability of predicting for a : \",prob[:,1])\n",
    "print(\"The probability of predicting for k  : \",prob[:,2])\n",
    "\n",
    "\n"
   ]
  },
  {
   "cell_type": "code",
   "execution_count": 4,
   "metadata": {},
   "outputs": [
    {
     "data": {
      "image/png": "[encoded data removed]",
      "text/plain": [
       "<Figure size 720x504 with 1 Axes>"
      ]
     },
     "metadata": {
      "needs_background": "light"
     },
     "output_type": "display_data"
    }
   ],
   "source": [
    "import numpy as np\n",
    "import pandas as pd\n",
    "import matplotlib.pyplot as plt\n",
    "plt.style.use('ggplot')\n",
    "%matplotlib inline\n",
    "\n",
    "# set jupyter's max row display\n",
    "pd.set_option('display.max_row', 1000)\n",
    "\n",
    "# set jupyter's max column width to 50\n",
    "pd.set_option('display.max_columns', 50)\n",
    "\n",
    "# Load the dataset\n",
    "dt = pd.read_csv(\"F:/fsmlk/vak.csv\")\n",
    "                 \n",
    "ax = dt['vak'].value_counts().plot(kind='bar', figsize=(10,7),\n",
    "                                        color=\"coral\", fontsize=13);\n",
    "ax.set_alpha(0.8)\n",
    "ax.set_title(\"VAK\", fontsize=18)\n",
    "ax.set_ylabel(\"NUmber of students\", fontsize=18);\n",
    "ax.set_yticks([0, 5, 10, 15, 20])\n",
    "\n",
    "# create a list to collect the plt.patches data\n",
    "totals = []\n",
    "\n",
    "# find the values and append to list\n",
    "for i in ax.patches:\n",
    "    totals.append(i.get_height())\n",
    "\n",
    "# set individual bar lables using above list\n",
    "total = sum(totals)\n",
    "\n",
    "# set individual bar lables using above list\n",
    "for i in ax.patches:\n",
    "    # get_x pulls left or right; get_height pushes up or down\n",
    "    ax.text(i.get_x()-.03, i.get_height()+.5, \\\n",
    "            str(round((i.get_height()/total)*100, 2))+'%', fontsize=15,\n",
    "                color='dimgrey')\n",
    "\n",
    "\n"
   ]
  },
  {
   "cell_type": "code",
   "execution_count": null,
   "metadata": {},
   "outputs": [],
   "source": []
  }
 ],
 "metadata": {
  "kernelspec": {
   "display_name": "Python 3",
   "language": "python",
   "name": "python3"
  },
  "language_info": {
   "codemirror_mode": {
    "name": "ipython",
    "version": 3
   },
   "file_extension": ".py",
   "mimetype": "text/x-python",
   "name": "python",
   "nbconvert_exporter": "python",
   "pygments_lexer": "ipython3",
   "version": "3.7.4"
  }
 },
 "nbformat": 4,
 "nbformat_minor": 4
}
